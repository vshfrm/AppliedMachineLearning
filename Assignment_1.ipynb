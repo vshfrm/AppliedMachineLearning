{
 "cells": [
  {
   "cell_type": "markdown",
   "metadata": {
    "nbgrader": {
     "grade": false,
     "locked": true,
     "solution": false
    }
   },
   "source": [
    "# Linear Regression - Least Squares  \n",
    "\n",
    "-------------  \n",
    "\n",
    "_Author: Khal Makhoul, W.P.G.Peterson_  \n",
    "\n",
    "## Project Guide\n",
    "----------------  \n",
    "- [Project Overview](#overview)\n",
    "- [Introduction and Review](#intro)\n",
    "- [Data Exploration](#data)  \n",
    "- [Coding Linear Regression](#code)\n",
    "\n",
    "<a id = \"overview\"></a>\n",
    "## Project Overview\n",
    "----------\n",
    "#### EXPECTED TIME 2 HRS\n",
    "\n",
    "This assignment will test your ability to code your own version of least squares regression in `Python`. After a brief review of some of the content from the lecture you will be asked to create a number of functions that will eventually be able to read in raw data to `Pandas` and perform a least squares regression on a subset of that data.  \n",
    "\n",
    "This will include:  \n",
    "- Calculating least squares weights\n",
    "- reading data on dist to return `Pandas` DataFrame  \n",
    "- select data by column  \n",
    "- implement column cutoffs  \n",
    "\n",
    "** Motivation**: Least squares regression offer a way to build a closed-form and interpretable model.  \n",
    "\n",
    "**Objectives**: This assignment will:\n",
    "- Test `Python` and `Pandas` competency\n",
    "- Ensure understanding of the mathematical foundations behind least squares regression  \n",
    "\n",
    "**Problem**: Using housing data, we will attempt to predict house price using living area with a regression model.  \n",
    "\n",
    "**Data**: Our data today comes from [Kaggle's House Prices Dataset](https://www.kaggle.com/c/house-prices-advanced-regression-techniques/data).  \n",
    "\n",
    "See above link for Description of data from `Kaggle`.  \n",
    "\n",
    "<a id = \"intro\"></a>\n",
    "### Introduction and Review\n",
    "\n",
    "As long as a few basic assumptions are fulfilled, linear regression using least squares is solvable exactly, without requiring approximation. \n",
    "\n",
    "This means that the equations presented in the week 1 lectures can be adapted directly to `Python` code, making this good practice both for using `Python` and translating an \"algorithm\" to code.\n",
    "\n",
    "We will use the matrix version of the least squares solution presented in lecture to derive the desired result. As a reminder, this expresses the least squares coefficients $w_{LS}$ as a vector, and calculates that vector as a function of $X$, the matrix of inputs, and $y$, the vector of outputs from the training set:\n",
    "\n",
    "$$w_{LS} = (X^T X)^{−1}X^T y,$$\n",
    "\n",
    "where $w_{LS}$ refers to the vector of weights we are trying to find, $X$ is the matrix of inputs, and $y$ is the output vector. \n",
    "\n",
    "In this equation, $X$ is always defined to have a vector of $1$ values as its first column. In other words, even when there is only one input value for each data point, $X$ takes the form:\n",
    "\n",
    "$$\n",
    "X = \\begin{bmatrix}\n",
    "1 \\  x_{11}  \\\\\n",
    "1 \\  x_{21}  \\\\\n",
    "\\vdots \\ \\vdots \\\\\n",
    "1 \\ x_{n1}\n",
    "\\end{bmatrix} \n",
    "$$\n",
    "\n",
    "For two inputs per data point, $X$ will take this form:\n",
    " \n",
    "$$\n",
    "X = \\begin{bmatrix}\n",
    "1 \\  x_{11} \\  x_{12} \\\\\n",
    "1 \\  x_{21} \\  x_{22} \\\\\n",
    "\\vdots \\ \\vdots \\\\\n",
    "1 \\ x_{n1} \\  x_{n2}\n",
    "\\end{bmatrix} \n",
    "$$\n",
    "\n",
    "\n",
    "\n",
    "\n",
    "Please refer to lecture notes for additional context.  \n",
    "<a id = \"data\"></a>\n",
    "### Data Exploration\n",
    "\n",
    "Before coding an algorithm, we will take a look at our data using `Python`'s `pandas`. For visualizations we'll use `matplotlib`. Familiarity with these modules will serve you well. The following cells include comments to explain the purpose of each step."
   ]
  },
  {
   "cell_type": "code",
   "execution_count": 1,
   "metadata": {
    "collapsed": true,
    "nbgrader": {
     "grade": false,
     "locked": true,
     "solution": false
    }
   },
   "outputs": [],
   "source": [
    "### This cell imports the necessary modules and sets a few plotting parameters for display\n",
    "\n",
    "%matplotlib inline\n",
    "import numpy as np\n",
    "import pandas as pd\n",
    "import matplotlib.pyplot as plt\n",
    "plt.rcParams['figure.figsize'] = (20.0, 10.0)"
   ]
  },
  {
   "cell_type": "code",
   "execution_count": 2,
   "metadata": {
    "collapsed": true,
    "nbgrader": {
     "grade": false,
     "locked": true,
     "solution": false
    }
   },
   "outputs": [],
   "source": [
    "### Read in the data\n",
    "tr_path = '../resource/asnlib/publicdata/train.csv'\n",
    "test_path = '../resource/asnlib/publicdata/test.csv'\n",
    "data = pd.read_csv(tr_path)"
   ]
  },
  {
   "cell_type": "code",
   "execution_count": 3,
   "metadata": {
    "nbgrader": {
     "grade": false,
     "locked": true,
     "solution": false
    }
   },
   "outputs": [
    {
     "data": {
      "text/html": [
       "<div>\n",
       "<style scoped>\n",
       "    .dataframe tbody tr th:only-of-type {\n",
       "        vertical-align: middle;\n",
       "    }\n",
       "\n",
       "    .dataframe tbody tr th {\n",
       "        vertical-align: top;\n",
       "    }\n",
       "\n",
       "    .dataframe thead th {\n",
       "        text-align: right;\n",
       "    }\n",
       "</style>\n",
       "<table border=\"1\" class=\"dataframe\">\n",
       "  <thead>\n",
       "    <tr style=\"text-align: right;\">\n",
       "      <th></th>\n",
       "      <th>Id</th>\n",
       "      <th>MSSubClass</th>\n",
       "      <th>MSZoning</th>\n",
       "      <th>LotFrontage</th>\n",
       "      <th>LotArea</th>\n",
       "      <th>Street</th>\n",
       "      <th>Alley</th>\n",
       "      <th>LotShape</th>\n",
       "      <th>LandContour</th>\n",
       "      <th>Utilities</th>\n",
       "      <th>...</th>\n",
       "      <th>PoolArea</th>\n",
       "      <th>PoolQC</th>\n",
       "      <th>Fence</th>\n",
       "      <th>MiscFeature</th>\n",
       "      <th>MiscVal</th>\n",
       "      <th>MoSold</th>\n",
       "      <th>YrSold</th>\n",
       "      <th>SaleType</th>\n",
       "      <th>SaleCondition</th>\n",
       "      <th>SalePrice</th>\n",
       "    </tr>\n",
       "  </thead>\n",
       "  <tbody>\n",
       "    <tr>\n",
       "      <th>0</th>\n",
       "      <td>1</td>\n",
       "      <td>60</td>\n",
       "      <td>RL</td>\n",
       "      <td>65.0</td>\n",
       "      <td>8450</td>\n",
       "      <td>Pave</td>\n",
       "      <td>NaN</td>\n",
       "      <td>Reg</td>\n",
       "      <td>Lvl</td>\n",
       "      <td>AllPub</td>\n",
       "      <td>...</td>\n",
       "      <td>0</td>\n",
       "      <td>NaN</td>\n",
       "      <td>NaN</td>\n",
       "      <td>NaN</td>\n",
       "      <td>0</td>\n",
       "      <td>2</td>\n",
       "      <td>2008</td>\n",
       "      <td>WD</td>\n",
       "      <td>Normal</td>\n",
       "      <td>208500</td>\n",
       "    </tr>\n",
       "    <tr>\n",
       "      <th>1</th>\n",
       "      <td>2</td>\n",
       "      <td>20</td>\n",
       "      <td>RL</td>\n",
       "      <td>80.0</td>\n",
       "      <td>9600</td>\n",
       "      <td>Pave</td>\n",
       "      <td>NaN</td>\n",
       "      <td>Reg</td>\n",
       "      <td>Lvl</td>\n",
       "      <td>AllPub</td>\n",
       "      <td>...</td>\n",
       "      <td>0</td>\n",
       "      <td>NaN</td>\n",
       "      <td>NaN</td>\n",
       "      <td>NaN</td>\n",
       "      <td>0</td>\n",
       "      <td>5</td>\n",
       "      <td>2007</td>\n",
       "      <td>WD</td>\n",
       "      <td>Normal</td>\n",
       "      <td>181500</td>\n",
       "    </tr>\n",
       "    <tr>\n",
       "      <th>2</th>\n",
       "      <td>3</td>\n",
       "      <td>60</td>\n",
       "      <td>RL</td>\n",
       "      <td>68.0</td>\n",
       "      <td>11250</td>\n",
       "      <td>Pave</td>\n",
       "      <td>NaN</td>\n",
       "      <td>IR1</td>\n",
       "      <td>Lvl</td>\n",
       "      <td>AllPub</td>\n",
       "      <td>...</td>\n",
       "      <td>0</td>\n",
       "      <td>NaN</td>\n",
       "      <td>NaN</td>\n",
       "      <td>NaN</td>\n",
       "      <td>0</td>\n",
       "      <td>9</td>\n",
       "      <td>2008</td>\n",
       "      <td>WD</td>\n",
       "      <td>Normal</td>\n",
       "      <td>223500</td>\n",
       "    </tr>\n",
       "    <tr>\n",
       "      <th>3</th>\n",
       "      <td>4</td>\n",
       "      <td>70</td>\n",
       "      <td>RL</td>\n",
       "      <td>60.0</td>\n",
       "      <td>9550</td>\n",
       "      <td>Pave</td>\n",
       "      <td>NaN</td>\n",
       "      <td>IR1</td>\n",
       "      <td>Lvl</td>\n",
       "      <td>AllPub</td>\n",
       "      <td>...</td>\n",
       "      <td>0</td>\n",
       "      <td>NaN</td>\n",
       "      <td>NaN</td>\n",
       "      <td>NaN</td>\n",
       "      <td>0</td>\n",
       "      <td>2</td>\n",
       "      <td>2006</td>\n",
       "      <td>WD</td>\n",
       "      <td>Abnorml</td>\n",
       "      <td>140000</td>\n",
       "    </tr>\n",
       "    <tr>\n",
       "      <th>4</th>\n",
       "      <td>5</td>\n",
       "      <td>60</td>\n",
       "      <td>RL</td>\n",
       "      <td>84.0</td>\n",
       "      <td>14260</td>\n",
       "      <td>Pave</td>\n",
       "      <td>NaN</td>\n",
       "      <td>IR1</td>\n",
       "      <td>Lvl</td>\n",
       "      <td>AllPub</td>\n",
       "      <td>...</td>\n",
       "      <td>0</td>\n",
       "      <td>NaN</td>\n",
       "      <td>NaN</td>\n",
       "      <td>NaN</td>\n",
       "      <td>0</td>\n",
       "      <td>12</td>\n",
       "      <td>2008</td>\n",
       "      <td>WD</td>\n",
       "      <td>Normal</td>\n",
       "      <td>250000</td>\n",
       "    </tr>\n",
       "  </tbody>\n",
       "</table>\n",
       "<p>5 rows × 81 columns</p>\n",
       "</div>"
      ],
      "text/plain": [
       "   Id  MSSubClass MSZoning  LotFrontage  LotArea Street Alley LotShape  \\\n",
       "0   1          60       RL         65.0     8450   Pave   NaN      Reg   \n",
       "1   2          20       RL         80.0     9600   Pave   NaN      Reg   \n",
       "2   3          60       RL         68.0    11250   Pave   NaN      IR1   \n",
       "3   4          70       RL         60.0     9550   Pave   NaN      IR1   \n",
       "4   5          60       RL         84.0    14260   Pave   NaN      IR1   \n",
       "\n",
       "  LandContour Utilities    ...     PoolArea PoolQC Fence MiscFeature MiscVal  \\\n",
       "0         Lvl    AllPub    ...            0    NaN   NaN         NaN       0   \n",
       "1         Lvl    AllPub    ...            0    NaN   NaN         NaN       0   \n",
       "2         Lvl    AllPub    ...            0    NaN   NaN         NaN       0   \n",
       "3         Lvl    AllPub    ...            0    NaN   NaN         NaN       0   \n",
       "4         Lvl    AllPub    ...            0    NaN   NaN         NaN       0   \n",
       "\n",
       "  MoSold YrSold  SaleType  SaleCondition  SalePrice  \n",
       "0      2   2008        WD         Normal     208500  \n",
       "1      5   2007        WD         Normal     181500  \n",
       "2      9   2008        WD         Normal     223500  \n",
       "3      2   2006        WD        Abnorml     140000  \n",
       "4     12   2008        WD         Normal     250000  \n",
       "\n",
       "[5 rows x 81 columns]"
      ]
     },
     "execution_count": 3,
     "metadata": {},
     "output_type": "execute_result"
    }
   ],
   "source": [
    "### The .head() function shows the first few lines of data for perspecitve\n",
    "data.head()"
   ]
  },
  {
   "cell_type": "code",
   "execution_count": 4,
   "metadata": {
    "nbgrader": {
     "grade": false,
     "locked": true,
     "solution": false
    },
    "scrolled": true
   },
   "outputs": [
    {
     "data": {
      "text/plain": [
       "Index(['Id', 'MSSubClass', 'MSZoning', 'LotFrontage', 'LotArea', 'Street',\n",
       "       'Alley', 'LotShape', 'LandContour', 'Utilities', 'LotConfig',\n",
       "       'LandSlope', 'Neighborhood', 'Condition1', 'Condition2', 'BldgType',\n",
       "       'HouseStyle', 'OverallQual', 'OverallCond', 'YearBuilt', 'YearRemodAdd',\n",
       "       'RoofStyle', 'RoofMatl', 'Exterior1st', 'Exterior2nd', 'MasVnrType',\n",
       "       'MasVnrArea', 'ExterQual', 'ExterCond', 'Foundation', 'BsmtQual',\n",
       "       'BsmtCond', 'BsmtExposure', 'BsmtFinType1', 'BsmtFinSF1',\n",
       "       'BsmtFinType2', 'BsmtFinSF2', 'BsmtUnfSF', 'TotalBsmtSF', 'Heating',\n",
       "       'HeatingQC', 'CentralAir', 'Electrical', '1stFlrSF', '2ndFlrSF',\n",
       "       'LowQualFinSF', 'GrLivArea', 'BsmtFullBath', 'BsmtHalfBath', 'FullBath',\n",
       "       'HalfBath', 'BedroomAbvGr', 'KitchenAbvGr', 'KitchenQual',\n",
       "       'TotRmsAbvGrd', 'Functional', 'Fireplaces', 'FireplaceQu', 'GarageType',\n",
       "       'GarageYrBlt', 'GarageFinish', 'GarageCars', 'GarageArea', 'GarageQual',\n",
       "       'GarageCond', 'PavedDrive', 'WoodDeckSF', 'OpenPorchSF',\n",
       "       'EnclosedPorch', '3SsnPorch', 'ScreenPorch', 'PoolArea', 'PoolQC',\n",
       "       'Fence', 'MiscFeature', 'MiscVal', 'MoSold', 'YrSold', 'SaleType',\n",
       "       'SaleCondition', 'SalePrice'],\n",
       "      dtype='object')"
      ]
     },
     "execution_count": 4,
     "metadata": {},
     "output_type": "execute_result"
    }
   ],
   "source": [
    "### Lists column names\n",
    "data.columns"
   ]
  },
  {
   "cell_type": "code",
   "execution_count": 5,
   "metadata": {
    "collapsed": true
   },
   "outputs": [],
   "source": [
    "### GRADED\n",
    "### How many columns are in `data`?\n",
    "### assign int answer to ans1\n",
    "### YOUR ANSWER BELOW\n",
    "\n",
    "ans1 = 81"
   ]
  },
  {
   "cell_type": "code",
   "execution_count": 6,
   "metadata": {
    "collapsed": true,
    "nbgrader": {
     "grade": true,
     "grade_id": "col",
     "locked": true,
     "points": "3",
     "solution": false
    }
   },
   "outputs": [],
   "source": [
    "#\n",
    "# AUTOGRADER TEST - DO NOT REMOVE\n",
    "#\n"
   ]
  },
  {
   "cell_type": "markdown",
   "metadata": {
    "nbgrader": {
     "grade": false,
     "locked": true,
     "solution": false
    }
   },
   "source": [
    "#### Visualizations"
   ]
  },
  {
   "cell_type": "code",
   "execution_count": 7,
   "metadata": {
    "nbgrader": {
     "grade": false,
     "locked": true,
     "solution": false
    }
   },
   "outputs": [
    {
     "data": {
      "image/png": "[encoded data removed]",
      "text/plain": [
       "<matplotlib.figure.Figure at 0x7f3115342978>"
      ]
     },
     "metadata": {},
     "output_type": "display_data"
    }
   ],
   "source": [
    "### We can plot the data as follows\n",
    "### Price v. living area\n",
    "### with matplotlib\n",
    "\n",
    "Y = data['SalePrice']\n",
    "X = data['GrLivArea']\n",
    "\n",
    "plt.scatter(X, Y, marker = \"x\")\n",
    "\n",
    "### Annotations\n",
    "plt.title(\"Sales Price vs. Living Area (excl. basement)\")\n",
    "plt.xlabel(\"GrLivArea\")\n",
    "plt.ylabel(\"SalePrice\");"
   ]
  },
  {
   "cell_type": "code",
   "execution_count": 8,
   "metadata": {
    "nbgrader": {
     "grade": false,
     "locked": true,
     "solution": false
    }
   },
   "outputs": [
    {
     "data": {
      "image/png": "[encoded data removed]",
      "text/plain": [
       "<matplotlib.figure.Figure at 0x7f31153186d8>"
      ]
     },
     "metadata": {},
     "output_type": "display_data"
    }
   ],
   "source": [
    "### price v. year\n",
    "### Using Pandas\n",
    "\n",
    "data.plot('YearBuilt', 'SalePrice', kind = 'scatter', marker = 'x');"
   ]
  },
  {
   "cell_type": "code",
   "execution_count": 9,
   "metadata": {
    "collapsed": true
   },
   "outputs": [],
   "source": [
    "### GRADED\n",
    "### Given the above graphs, it appears there is a:  \n",
    "### True) positive correlation between the variables\n",
    "### False) negative correlation between the variables\n",
    "### Assign boolean corresponding to choice to ans1\n",
    "### YOUR ANSWER BELOW\n",
    "\n",
    "ans1 = True"
   ]
  },
  {
   "cell_type": "code",
   "execution_count": 10,
   "metadata": {
    "collapsed": true,
    "nbgrader": {
     "grade": true,
     "grade_id": "corr",
     "locked": true,
     "points": "3",
     "solution": false
    }
   },
   "outputs": [],
   "source": [
    "#\n",
    "# AUTOGRADER TEST - DO NOT REMOVE\n",
    "#\n"
   ]
  },
  {
   "cell_type": "markdown",
   "metadata": {
    "nbgrader": {
     "grade": false,
     "locked": true,
     "solution": false
    }
   },
   "source": [
    "### Submission Instructions\n",
    "\n",
    "You will have to ensure that the function names match the examples provided.\n",
    "\n",
    "The code will be automatically graded by a script that will take your code as input and execute it. In order for the grading script to work properly, you must follow the naming conventions in this assignment stub.  \n",
    "\n",
    "<a id = \"code\"></a>\n",
    "### Coding Linear Regression\n",
    "Given the equation above for $w_{LS}$, we know all we need to in order to solve a linear regression. Coding out the steps in `Python`, we will complete the process in several steps.\n",
    "\n",
    "#### Matrix Operations\n",
    "Below is an example of a function that takes the inverse of a matrix. The `numpy` module is used, and all the function does is call the `numpy` function `np.linalg.inv()`. Though simple, this can be used as a template for a few good coding practices:\n",
    "\n",
    "* Name functions and parameters descriptively\n",
    "* Use underscores _ to separate words in variable/function names (snake_case, **NOT** PascalCase or camelCase)\n",
    "* In functions and classes, include a docstring between triple quotes "
   ]
  },
  {
   "cell_type": "code",
   "execution_count": 11,
   "metadata": {
    "nbgrader": {
     "grade": false,
     "locked": false,
     "solution": false
    },
    "scrolled": false
   },
   "outputs": [
    {
     "name": "stdout",
     "output_type": "stream",
     "text": [
      "test [[-2.   1. ]\n",
      " [ 1.5 -0.5]] \n",
      "\n",
      "From Data:\n",
      " [[-0.2   0.6 ]\n",
      " [ 0.02 -0.01]]\n"
     ]
    }
   ],
   "source": [
    "### GRADED\n",
    "### Build a function that takes as input a matrix\n",
    "### return the inverse of that matrix\n",
    "### assign function to \"inverse_of_matrix\"\n",
    "### YOUR ANSWER BELOW\n",
    "\n",
    "def inverse_of_matrix(mat):\n",
    "    \"\"\"Calculate and return the multiplicative inverse of a matrix.\n",
    "    \n",
    "    Positional argument:\n",
    "        mat -- a square matrix to invert\n",
    "    \n",
    "    Example:\n",
    "        sample_matrix = [[1, 2], [3, 4]]\n",
    "        the_inverse = inverse_of_matrix(sample_matrix)\n",
    "        \n",
    "    Requirements:\n",
    "        This function depends on the numpy function `numpy.linalg.inv`. \n",
    "    \"\"\"\n",
    "    matrix_inverse = np.linalg.inv(mat)\n",
    "    return matrix_inverse\n",
    "\n",
    "### Testing function:\n",
    "\n",
    "print(\"test\",inverse_of_matrix([[1,2],[3,4]]), \"\\n\")\n",
    "print(\"From Data:\\n\", inverse_of_matrix(data.iloc[:2,:2]))"
   ]
  },
  {
   "cell_type": "code",
   "execution_count": 12,
   "metadata": {
    "collapsed": true,
    "nbgrader": {
     "grade": true,
     "grade_id": "Ex1",
     "locked": true,
     "points": "1",
     "solution": false
    }
   },
   "outputs": [],
   "source": [
    "#\n",
    "# AUTOGRADER TEST - DO NOT REMOVE\n",
    "#\n"
   ]
  },
  {
   "cell_type": "markdown",
   "metadata": {
    "nbgrader": {
     "grade": false,
     "locked": true,
     "solution": false
    }
   },
   "source": [
    "#### Q1: Read Data"
   ]
  },
  {
   "cell_type": "code",
   "execution_count": 13,
   "metadata": {
    "collapsed": true
   },
   "outputs": [],
   "source": [
    "### GRADED\n",
    "### In order to create any model it is necessary to read in data\n",
    "### Build a function called \"read_to_df\" that takes the file_path of a .csv file.\n",
    "### Use a pandas functions appropriate for .csv files to turn that path into a DataFrame\n",
    "### Use pandas function defaults for reading in file\n",
    "### Return that DataFrame\n",
    "### Grade will be determined by whether or not the returned item is of type \"DataFrame\" and\n",
    "### if the dimensions are correct\n",
    "### YOUR ANSWER BELOW\n",
    "import pandas as pd\n",
    "def read_to_df(file_path):\n",
    "    \"\"\"Read on-disk data and return a dataframe.\"\"\"\n",
    "    \n",
    "    return pd.read_csv(file_path)"
   ]
  },
  {
   "cell_type": "code",
   "execution_count": 14,
   "metadata": {
    "collapsed": true,
    "nbgrader": {
     "grade": true,
     "grade_id": "q1",
     "locked": true,
     "points": "10",
     "solution": false
    }
   },
   "outputs": [],
   "source": [
    "#\n",
    "# AUTOGRADER TEST - DO NOT REMOVE\n",
    "#\n"
   ]
  },
  {
   "cell_type": "markdown",
   "metadata": {
    "nbgrader": {
     "grade": false,
     "locked": true,
     "solution": false
    }
   },
   "source": [
    "#### Q2: Select by Columns"
   ]
  },
  {
   "cell_type": "code",
   "execution_count": 15,
   "metadata": {
    "collapsed": true,
    "nbgrader": {
     "grade": false,
     "locked": false,
     "solution": false
    }
   },
   "outputs": [],
   "source": [
    "### GRADED\n",
    "### Build a function called \"select_columns\"\n",
    "### As inputs, take a DataFrame and a *list* of column names.\n",
    "### Return a DataFrame that only has the columns specified in the list of column names\n",
    "### Grading will check type of object, dimensions of object, and column names\n",
    "### YOUR ANSWER BELOW\n",
    "\n",
    "def select_columns(data_frame, column_names):\n",
    "    \"\"\"Return a subset of a data frame by column names.\n",
    "\n",
    "    Positional arguments:\n",
    "        data_frame -- a pandas DataFrame object\n",
    "        column_names -- a list of column names to select\n",
    "\n",
    "    Example:\n",
    "        data = read_into_data_frame('train.csv')\n",
    "        selected_columns = ['SalePrice', 'GrLivArea', 'YearBuilt']\n",
    "        sub_df = select_columns(data, selected_columns)\n",
    "    \"\"\"\n",
    "\n",
    "    return data_frame[column_names]"
   ]
  },
  {
   "cell_type": "code",
   "execution_count": 16,
   "metadata": {
    "collapsed": true,
    "nbgrader": {
     "grade": true,
     "grade_id": "q2",
     "locked": true,
     "points": "10",
     "solution": false
    }
   },
   "outputs": [],
   "source": [
    "#\n",
    "# AUTOGRADER TEST - DO NOT REMOVE\n",
    "#\n"
   ]
  },
  {
   "cell_type": "markdown",
   "metadata": {
    "nbgrader": {
     "grade": false,
     "locked": true,
     "solution": false
    }
   },
   "source": [
    "#### Q2a:"
   ]
  },
  {
   "cell_type": "code",
   "execution_count": 17,
   "metadata": {
    "collapsed": true
   },
   "outputs": [],
   "source": [
    "### GRADED\n",
    "### For a `Pandas` DataFrame named `df`, the names of columns may be accessed by the:\n",
    "### `df.columns` attribute.\n",
    "### The names of the rows may be accessed by the `df.<ans1>` attribute\n",
    "### to ans1 assign a string that when placed after `df.` will return the row names\n",
    "### of a DataFrame\n",
    "### YOUR ANSWER BELOW\n",
    "\n",
    "ans1 = 'index'"
   ]
  },
  {
   "cell_type": "code",
   "execution_count": 18,
   "metadata": {
    "collapsed": true,
    "nbgrader": {
     "grade": true,
     "grade_id": "q2a",
     "locked": true,
     "points": "3",
     "solution": false
    }
   },
   "outputs": [],
   "source": [
    "#\n",
    "# AUTOGRADER TEST - DO NOT REMOVE\n",
    "#\n"
   ]
  },
  {
   "cell_type": "markdown",
   "metadata": {
    "nbgrader": {
     "grade": false,
     "locked": true,
     "solution": false
    }
   },
   "source": [
    "#### Q3: Subset Data by Value"
   ]
  },
  {
   "cell_type": "code",
   "execution_count": 19,
   "metadata": {
    "collapsed": true
   },
   "outputs": [],
   "source": [
    "### GRADED\n",
    "### Build a function called \"column_cutoff\"\n",
    "### As inputs, accept a Pandas Dataframe and a list of tuples.\n",
    "### Tuples in format (column_name, min_value, max_value)\n",
    "### Return a DataFrame which excludes rows where the value in specified column exceeds \"max_value\"\n",
    "### or is less than \"min_value\"\n",
    "### ### NB: DO NOT remove rows if the column value is equal to the min/max value\n",
    "### YOUR ANSWER BELOW\n",
    "\n",
    "def column_cutoff(data_frame, cutoffs):\n",
    "    \"\"\"Subset data frame by cutting off limits on column values.\n",
    "    \n",
    "    Positional arguments:\n",
    "        data -- pandas DataFrame object\n",
    "        cutoffs -- list of tuples in the format: \n",
    "        (column_name, min_value, max_value)\n",
    "        \n",
    "    Example:\n",
    "        data_frame = read_into_data_frame('train.csv')\n",
    "        # Remove data points with SalePrice < $50,000\n",
    "        # Remove data points with GrLiveAre > 4,000 square feet\n",
    "        cutoffs = [('SalePrice', 50000, 1e10), ('GrLivArea', 0, 4000)]\n",
    "        selected_data = column_cutoff(data_frame, cutoffs)\n",
    "    \"\"\"\n",
    "    for tup in cutoffs:\n",
    "        # exclude lower\n",
    "        data_frame = data_frame[data_frame[tup[0]] >= tup[1]]\n",
    "        #exclude higher\n",
    "        data_frame = data_frame[data_frame[tup[0]] <= tup[2]]\n",
    "        \n",
    "    return data_frame"
   ]
  },
  {
   "cell_type": "code",
   "execution_count": 20,
   "metadata": {
    "collapsed": true,
    "nbgrader": {
     "grade": true,
     "grade_id": "q3",
     "locked": true,
     "points": "20",
     "solution": false
    }
   },
   "outputs": [],
   "source": [
    "#\n",
    "# AUTOGRADER TEST - DO NOT REMOVE\n",
    "#\n"
   ]
  },
  {
   "cell_type": "markdown",
   "metadata": {
    "nbgrader": {
     "grade": false,
     "locked": true,
     "solution": false
    }
   },
   "source": [
    "Next you'll implement the equation above for $w_{LS}$ using the inverse matrix function.  \n",
    "$$w_{LS} = (X^T X)^{−1}X^T y,$$\n",
    "\n",
    "#### Q4: Least Squares"
   ]
  },
  {
   "cell_type": "code",
   "execution_count": 21,
   "metadata": {
    "collapsed": true
   },
   "outputs": [],
   "source": [
    "### GRADED\n",
    "### Build a function  called \"least_squares_weights\"\n",
    "### take as input two matricies corresponding to the X inputs and y target\n",
    "### assume the matricies are of the correct dimensions\n",
    "\n",
    "### Step 1: ensure that the number of rows of each matrix is greater than or equal to the number\n",
    "### of columns.\n",
    "### ### If not, transpose the matricies.\n",
    "### In particular, the y input should end up as a n-by-1 matrix, and the x input as a n-by-p matrix\n",
    "\n",
    "### Step 2: *prepend* an n-by-1 column of ones to the input_x matrix\n",
    "\n",
    "### Step 3: Use the above equation to calculate the least squares weights.\n",
    "\n",
    "### NB: `.shape`, `np.matmul`, `np.linalg.inv`, `np.ones` and `np.transpose` will be valuable.\n",
    "### If those above functions are used, the weights should be accessable as below:  \n",
    "### weights = least_squares_weights(train_x, train_y)\n",
    "### weight1 = weights[0][0]; weight2 = weights[1][0];... weight<n+1> = weights[n][0]\n",
    "\n",
    "### YOUR ANSWER BELOW\n",
    "\n",
    "\n",
    "def least_squares_weights(input_x, target_y):\n",
    "    \"\"\"Calculate linear regression least squares weights.\n",
    "    \n",
    "    Positional arguments:\n",
    "        input_x -- matrix of training input data\n",
    "        target_y -- vector of training output values\n",
    "        \n",
    "        The dimensions of X and y will be either p-by-n and 1-by-n\n",
    "        Or n-by-p and n-by-1\n",
    "        \n",
    "    Example:\n",
    "        import numpy as np\n",
    "        training_y = np.array([[208500, 181500, 223500, \n",
    "                                140000, 250000, 143000, \n",
    "                                307000, 200000, 129900, \n",
    "                                118000]])\n",
    "        training_x = np.array([[1710, 1262, 1786, \n",
    "                                1717, 2198, 1362, \n",
    "                                1694, 2090, 1774, \n",
    "                                1077], \n",
    "                               [2003, 1976, 2001, \n",
    "                                1915, 2000, 1993, \n",
    "                                2004, 1973, 1931, \n",
    "                                1939]])\n",
    "        weights = least_squares_weights(training_x, training_y)\n",
    "        \n",
    "        print(weights)  #--> np.array([[-2.29223802e+06],\n",
    "                           [ 5.92536529e+01],\n",
    "                           [ 1.20780450e+03]])\n",
    "                           \n",
    "        print(weights[1][0]) #--> 59.25365290008861\n",
    "        \n",
    "    Assumptions:\n",
    "        -- target_y is a vector whose length is the same as the\n",
    "        number of observations in training_x\n",
    "    \"\"\"\n",
    "    #Step 1\n",
    "    if input_x.shape[0] < input_x.shape[1]:\n",
    "        input_x = np.transpose(input_x)\n",
    "    if target_y.shape[0] < target_y.shape[1]:\n",
    "        target_y = np.transpose(target_y)\n",
    "\n",
    "    # Step 2\n",
    "    input_x = np.concatenate([np.ones((input_x.shape[0],1)),input_x],axis=1)\n",
    "    \n",
    "    #Step 3\n",
    "    X = input_x\n",
    "    X_T = np.transpose(X)\n",
    "    y = target_y\n",
    "    \n",
    "    W_LS = np.matmul(np.matmul(np.linalg.inv(np.matmul(X_T,X)),X_T),y)\n",
    "    return W_LS"
   ]
  },
  {
   "cell_type": "code",
   "execution_count": 22,
   "metadata": {
    "collapsed": true,
    "nbgrader": {
     "grade": true,
     "grade_id": "q4",
     "locked": true,
     "points": "20",
     "solution": false
    }
   },
   "outputs": [],
   "source": [
    "#\n",
    "# AUTOGRADER TEST - DO NOT REMOVE\n",
    "#\n"
   ]
  },
  {
   "cell_type": "code",
   "execution_count": 23,
   "metadata": {
    "collapsed": true
   },
   "outputs": [],
   "source": [
    "### GRADED\n",
    "### Why, in the function  above, is it necessary to prepend a column of ones\n",
    "### 'a') To re-shape the matrix\n",
    "### 'b') To create an intercept term\n",
    "### 'c') It isn't needed, it's just meant to be confusing\n",
    "### 'd') As a way to make sure the weights turn out positive\n",
    "### Assign the character asociated with your choice as a string to ans1\n",
    "### YOUR ANSWER BELOW\n",
    "\n",
    "ans1 = 'b'"
   ]
  },
  {
   "cell_type": "code",
   "execution_count": 24,
   "metadata": {
    "collapsed": true,
    "nbgrader": {
     "grade": true,
     "grade_id": "q4a",
     "locked": true,
     "points": "3",
     "solution": false
    }
   },
   "outputs": [],
   "source": [
    "#\n",
    "# AUTOGRADER TEST - DO NOT REMOVE\n",
    "#\n"
   ]
  },
  {
   "cell_type": "markdown",
   "metadata": {
    "nbgrader": {
     "grade": false,
     "locked": true,
     "solution": false
    }
   },
   "source": [
    "#### Testing on Real Data\n",
    "\n",
    "Now that we have code to read the data and perform matrix operations, we can put it all together to perform linear regression on a data set of our choosing.  \n",
    "\n",
    "If your functions above are defined correctly, the following two cells should run without error."
   ]
  },
  {
   "cell_type": "code",
   "execution_count": 25,
   "metadata": {
    "nbgrader": {
     "grade": false,
     "locked": true,
     "solution": false
    }
   },
   "outputs": [
    {
     "name": "stdout",
     "output_type": "stream",
     "text": [
      "[[13454.06670576]\n",
      " [  110.78992341]]\n"
     ]
    }
   ],
   "source": [
    "df = read_to_df(tr_path)\n",
    "df_sub = select_columns(df, ['SalePrice', 'GrLivArea', 'YearBuilt'])\n",
    "\n",
    "cutoffs = [('SalePrice', 50000, 1e10), ('GrLivArea', 0, 4000)]\n",
    "df_sub_cutoff = column_cutoff(df_sub, cutoffs)\n",
    "\n",
    "X = df_sub_cutoff['GrLivArea'].values\n",
    "Y = df_sub_cutoff['SalePrice'].values\n",
    "\n",
    "### reshaping for input into function\n",
    "training_y = np.array([Y])\n",
    "training_x = np.array([X])\n",
    "\n",
    "weights = least_squares_weights(training_x, training_y)\n",
    "print(weights)"
   ]
  },
  {
   "cell_type": "code",
   "execution_count": 26,
   "metadata": {
    "nbgrader": {
     "grade": false,
     "locked": true,
     "solution": false
    },
    "scrolled": false
   },
   "outputs": [
    {
     "data": {
      "image/png": "[encoded data removed]",
      "text/plain": [
       "<matplotlib.figure.Figure at 0x7f3111abe2e8>"
      ]
     },
     "metadata": {},
     "output_type": "display_data"
    }
   ],
   "source": [
    "max_X = np.max(X) + 500\n",
    "min_X = np.min(X) - 500\n",
    "\n",
    "### Choose points evenly spaced between min_x in max_x\n",
    "reg_x = np.linspace(min_X, max_X, 1000)\n",
    "\n",
    "### Use the equation for our line to calculate y values\n",
    "reg_y = weights[0][0] + weights[1][0] * reg_x\n",
    "\n",
    "plt.plot(reg_x, reg_y, color='#58b970', label='Regression Line')\n",
    "plt.scatter(X, Y, c='k', label='Data')\n",
    "\n",
    "plt.xlabel('GrLivArea')\n",
    "plt.ylabel('SalePrice')\n",
    "plt.legend()\n",
    "plt.show()"
   ]
  },
  {
   "cell_type": "markdown",
   "metadata": {
    "nbgrader": {
     "grade": false,
     "locked": true,
     "solution": false
    }
   },
   "source": [
    "#### Model Evalutaion Intro\n",
    "Further lessons will discuss model evaluation scores in more detail, quickly, here we will calculate root mean squared errors with our calculated weights"
   ]
  },
  {
   "cell_type": "code",
   "execution_count": 27,
   "metadata": {
    "collapsed": true
   },
   "outputs": [],
   "source": [
    "### GRADED\n",
    "### True or False\n",
    "### The Root Mean Square Error is in the same units as the data\n",
    "### assign boolean response to ans1\n",
    "### YOUR ANSWER BELOW\n",
    "\n",
    "ans1 = True"
   ]
  },
  {
   "cell_type": "code",
   "execution_count": 28,
   "metadata": {
    "collapsed": true,
    "nbgrader": {
     "grade": true,
     "grade_id": "evaluation",
     "locked": true,
     "points": "3",
     "solution": false
    }
   },
   "outputs": [],
   "source": [
    "#\n",
    "# AUTOGRADER TEST - DO NOT REMOVE\n",
    "#\n"
   ]
  },
  {
   "cell_type": "markdown",
   "metadata": {
    "nbgrader": {
     "grade": false,
     "locked": true,
     "solution": false
    }
   },
   "source": [
    "#### Calculating RMSE"
   ]
  },
  {
   "cell_type": "code",
   "execution_count": 29,
   "metadata": {
    "nbgrader": {
     "grade": false,
     "locked": true,
     "solution": false
    }
   },
   "outputs": [
    {
     "name": "stdout",
     "output_type": "stream",
     "text": [
      "53092.484869486616\n"
     ]
    }
   ],
   "source": [
    "rmse = 0\n",
    "\n",
    "b0 = weights[0][0]\n",
    "b1 = weights[1][0]\n",
    "\n",
    "for i in range(len(Y)):\n",
    "    y_pred = b0 + b1 * X[i]\n",
    "    rmse += (Y[i] - y_pred) ** 2\n",
    "rmse = np.sqrt(rmse/len(Y))\n",
    "print(rmse)"
   ]
  },
  {
   "cell_type": "markdown",
   "metadata": {
    "nbgrader": {
     "grade": false,
     "locked": true,
     "solution": false
    }
   },
   "source": [
    "#### Calculating $R^2$"
   ]
  },
  {
   "cell_type": "code",
   "execution_count": 30,
   "metadata": {
    "nbgrader": {
     "grade": false,
     "locked": true,
     "solution": false
    }
   },
   "outputs": [
    {
     "name": "stdout",
     "output_type": "stream",
     "text": [
      "0.5163484562864966\n"
     ]
    }
   ],
   "source": [
    "ss_t = 0\n",
    "ss_r = 0\n",
    "\n",
    "mean_y = np.mean(Y)\n",
    "\n",
    "for i in range(len(Y)):\n",
    "    y_pred = b0 + b1 * X[i]\n",
    "    ss_t += (Y[i] - mean_y) ** 2\n",
    "    ss_r += (Y[i] - y_pred) ** 2\n",
    "r2 = 1 - (ss_r/ss_t)\n",
    "\n",
    "print(r2)"
   ]
  },
  {
   "cell_type": "markdown",
   "metadata": {
    "nbgrader": {
     "grade": false,
     "locked": true,
     "solution": false
    }
   },
   "source": [
    "### sklearn implementation\n",
    "\n",
    "While it is useful to build and program our model from scratch, this course will also introduce how to use conventional methods to fit each model. In particular, we will be using the `scikit-learn` module (also called `sklearn`.)  \n",
    "\n",
    "Check to see how close your answers are!"
   ]
  },
  {
   "cell_type": "code",
   "execution_count": 31,
   "metadata": {
    "nbgrader": {
     "grade": false,
     "locked": true,
     "solution": false
    }
   },
   "outputs": [
    {
     "name": "stdout",
     "output_type": "stream",
     "text": [
      "Intercept: 13454.066705758654\n",
      "Coefficient: [110.78992341]\n"
     ]
    }
   ],
   "source": [
    "from sklearn.linear_model import LinearRegression\n",
    "\n",
    "lr = LinearRegression()\n",
    "\n",
    "### sklearn requires a 2-dimensional X and 1 dimensional y. The below yeilds shapes of:\n",
    "### skl_X = (n,1); skl_Y = (n,)\n",
    "skl_X = df_sub_cutoff[['GrLivArea']]\n",
    "skl_Y = df_sub_cutoff['SalePrice']\n",
    "\n",
    "lr.fit(skl_X,skl_Y)\n",
    "print(\"Intercept:\", lr.intercept_)\n",
    "print(\"Coefficient:\", lr.coef_)"
   ]
  }
 ],
 "metadata": {
  "kernelspec": {
   "display_name": "Python 3",
   "language": "python",
   "name": "python3"
  },
  "language_info": {
   "codemirror_mode": {
    "name": "ipython",
    "version": 3
   },
   "file_extension": ".py",
   "mimetype": "text/x-python",
   "name": "python",
   "nbconvert_exporter": "python",
   "pygments_lexer": "ipython3",
   "version": "3.6.5"
  }
 },
 "nbformat": 4,
 "nbformat_minor": 2
}
